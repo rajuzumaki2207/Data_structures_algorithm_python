{
  "nbformat": 4,
  "nbformat_minor": 0,
  "metadata": {
    "colab": {
      "name": "DSA_Data_Structures.ipynb",
      "provenance": [],
      "authorship_tag": "ABX9TyOOtJiWfvOgf6l4iNOjo6gL",
      "include_colab_link": true
    },
    "kernelspec": {
      "name": "python3",
      "display_name": "Python 3"
    },
    "language_info": {
      "name": "python"
    }
  },
  "cells": [
    {
      "cell_type": "markdown",
      "metadata": {
        "id": "view-in-github",
        "colab_type": "text"
      },
      "source": [
        "<a href=\"https://colab.research.google.com/github/rajuzumaki2207/Data_structures_algorithm_python/blob/master/DSA_Data_Structures.ipynb\" target=\"_parent\"><img src=\"https://colab.research.google.com/assets/colab-badge.svg\" alt=\"Open In Colab\"/></a>"
      ]
    },
    {
      "cell_type": "code",
      "source": [
        "## LS\n",
        "class Node:\n",
        "  def __init__(self, value):\n",
        "    self.value = value\n",
        "    self.next = None\n",
        "class LinkedList:\n",
        "  def __init__(self, value):\n",
        "    new_node= Node(value)\n",
        "    self.head = new_node\n",
        "    self.tail = new_node\n",
        "    self.length=1\n",
        "\n",
        "  def PrintLinkedList(self):\n",
        "    temp = self.head\n",
        "    while temp is not None:\n",
        "      print(temp.value)\n",
        "      temp = temp.next\n",
        "  def append(self,value):\n",
        "    next_node = Node(value)\n",
        "    if self.head is None:\n",
        "      self.head = next_node\n",
        "      self.tail = next_node\n",
        "      \n",
        "      \n",
        "    else:\n",
        "      self.tail.next= next_node\n",
        "      self.tail=next_node\n",
        "    self.length+=1\n",
        "    return True\n",
        "  def StartLS(self,value):\n",
        "    node_start = Node(value)\n",
        "    if self.head is None:\n",
        "      \n",
        "      self.head= node_start\n",
        "    else:\n",
        "      node_start.next = self.head\n",
        "      self.head = node_start\n",
        "    self.length+=1\n",
        "    return True\n",
        "\n",
        "\n",
        "  def PopLS(self):\n",
        "    if self.head is None:\n",
        "      return None\n",
        "    \n",
        "    temp =self.head\n",
        "    pre = self.head\n",
        "    while (temp.next):\n",
        "      pre= temp\n",
        "      temp= temp.next\n",
        "    self.tail=pre \n",
        "    self.tail.next=None\n",
        "    self.length-=1\n",
        "    return True\n",
        "  def pop_first(self):\n",
        "    if self.head is None:\n",
        "      return None\n",
        "    self.head = self.head.next\n",
        "    self.next=None\n",
        "    self.length-=1\n",
        "  def _get(self, index):\n",
        "    if index<0 or index >= self.length:\n",
        "      return None\n",
        "    temp= self.head\n",
        "    for _ in range(index):\n",
        "      temp = temp.next\n",
        "    return temp\n",
        "  def set_value(self, value, index):\n",
        "    temp = self._get(index)\n",
        "    if temp:\n",
        "      temp.value = value\n",
        "      return True\n",
        "    else:\n",
        "      return False\n",
        "  def insert(self, value,index):\n",
        "    if index <0 or index>self.length:\n",
        "      return False\n",
        "    if index==self.length:\n",
        "      return self.append(value)\n",
        "    elif index==0:\n",
        "      return self.StartLS(value)\n",
        "    \n",
        "    else:\n",
        "      new_node = Node(value)\n",
        "      temp= self.head\n",
        "      pre = self.head\n",
        "      for _ in range(index):\n",
        "        pre= temp\n",
        "        temp=temp.next\n",
        "      pre.next = new_node\n",
        "      new_node.next = temp\n",
        "      self.length+=1\n",
        "    return True  \n",
        "  def remove(self, index):\n",
        "      if index<0 or index> self.length:\n",
        "        return False\n",
        "      if index==0:\n",
        "        return self.pop_first()\n",
        "      if index==self.length-1:\n",
        "        return self.popLS()\n",
        "      else:\n",
        "        \n",
        "        pre = self._get(index-1)\n",
        "        temp = pre.next\n",
        "        pre.next= temp.next\n",
        "        temp.next=None\n",
        "        self.length-=1\n",
        "        return temp\n",
        "\n",
        "  def reverse(self):\n",
        "    temp =self.head\n",
        "    self.head= self.tail\n",
        "    self.tail= temp\n",
        "    after = temp.next\n",
        "    before = None\n",
        "    for _ in range(self.length):\n",
        "      after= temp.next\n",
        "      temp.next= before\n",
        "      before=temp\n",
        "      temp= after\n",
        "  def _get_by_value(self,value):\n",
        "    temp = self.head\n",
        "    idx= 0\n",
        "    for _ in range(self.length):\n",
        "      if temp.value == value:\n",
        "          return idx\n",
        "        \n",
        "      temp = temp.next\n",
        "      idx+=1\n",
        "    return ('Value not Found')  \n",
        "   \n",
        "\n",
        "\n",
        "\n",
        "\n",
        "      \n",
        "\n",
        "\n",
        "\n",
        "\n",
        "\n",
        "\n",
        "l = LinkedList(2)\n",
        "l.append(3)\n",
        "l.StartLS(14)\n",
        "l.PrintLinkedList()\n",
        "\n",
        "\n"
      ],
      "metadata": {
        "id": "Rd6RD-3CXNNs",
        "colab": {
          "base_uri": "https://localhost:8080/"
        },
        "outputId": "6258e14f-4446-48a3-988c-0e83077cbbf3"
      },
      "execution_count": 24,
      "outputs": [
        {
          "output_type": "stream",
          "name": "stdout",
          "text": [
            "14\n",
            "2\n",
            "3\n"
          ]
        }
      ]
    },
    {
      "cell_type": "code",
      "source": [
        "l._get_by_value(3)"
      ],
      "metadata": {
        "colab": {
          "base_uri": "https://localhost:8080/"
        },
        "id": "ZvNU8BA40aUV",
        "outputId": "51df86bb-2bea-4c27-a820-e5dccb27f594"
      },
      "execution_count": 27,
      "outputs": [
        {
          "output_type": "execute_result",
          "data": {
            "text/plain": [
              "2"
            ]
          },
          "metadata": {},
          "execution_count": 27
        }
      ]
    },
    {
      "cell_type": "code",
      "source": [
        "def factorial(n):\n",
        "  if n==1 or n==0:\n",
        "    return 1\n",
        "  return (n * factorial (n-1))"
      ],
      "metadata": {
        "id": "cKgHpqFO8nus"
      },
      "execution_count": null,
      "outputs": []
    },
    {
      "cell_type": "code",
      "source": [
        "factorial(5)"
      ],
      "metadata": {
        "id": "2JXV9WTx87Sa",
        "outputId": "09cbf28f-7511-45ff-cfee-74da237cada9",
        "colab": {
          "base_uri": "https://localhost:8080/"
        }
      },
      "execution_count": null,
      "outputs": [
        {
          "output_type": "execute_result",
          "data": {
            "text/plain": [
              "120"
            ]
          },
          "metadata": {},
          "execution_count": 3
        }
      ]
    },
    {
      "cell_type": "code",
      "source": [
        "## DLS\n",
        "class Node:\n",
        "  def __init__(self, value):\n",
        "    self.value = value\n",
        "    self.next = None\n",
        "    self.prev= None\n",
        "\n",
        "class DoublyLinkedList:\n",
        "  def __init__(self,value):\n",
        "    new_node= Node(value)\n",
        "    self.head= new_node\n",
        "    self.tail= new_node\n",
        "    self.length=1\n",
        "  def Print_DLS(self):\n",
        "    temp =self.head\n",
        "\n",
        "    while temp:\n",
        "      print(temp.value)\n",
        "      temp = temp.next\n",
        "  def append(self, value):\n",
        "  \n",
        "    new_node= Node(value)\n",
        "    if self.head is None:\n",
        "      self.head=new_node\n",
        "      self.tail=new_node\n",
        "    else:\n",
        "      self.tail.next=new_node\n",
        "      new_node.next=None\n",
        "      new_node.prev = self.tail\n",
        "      self.tail = new_node\n",
        "      self.length+=1\n",
        "    return True\n",
        "  def pop(self):\n",
        "    if self.head is None:\n",
        "      return False\n",
        "    self.tail = self.tail.prev\n",
        "    self.tail.next=None\n",
        "    self.length-=1\n",
        "    return True\n",
        "  def prepend(self,value):\n",
        "    nw_node= Node(value)\n",
        "    if self.head is None:\n",
        "      self.head= nw_node\n",
        "      self.tail= nw_node\n",
        "    else:\n",
        "      \n",
        "      nw_node.next= self.head\n",
        "      self.head.prev= nw_node\n",
        "      self.head =nw_node\n",
        "    self.length+=1\n",
        "    return True\n",
        "  def pop_first(self):\n",
        "    if self.head is None:\n",
        "      return False\n",
        "    self.head = self.head.next\n",
        "    self.head.prev = None\n",
        "    self.length-=1\n",
        "    return True\n",
        "  def get(self, index):\n",
        "    if index <0 or index >=self.length:\n",
        "      return False\n",
        "    if index <= self.length*0.5:\n",
        "      temp = self.head\n",
        "      for _ in range(index):\n",
        "        temp = temp.next\n",
        "      return temp\n",
        "    else:\n",
        "      temp = self.tail\n",
        "      for _ in range(self.length-1, index,-1):\n",
        "              temp = temp.prev\n",
        "      return temp\n",
        "  def set_value(self,index,value):\n",
        "    temp = self.get(index)\n",
        "    if temp:\n",
        "      temp.value= value\n",
        "      return True\n",
        "    else:\n",
        "      return False\n",
        "  def insert(self, index, value):\n",
        "    new_node= Node(value)\n",
        "    if index <0 or index >= self.length :\n",
        "      return False\n",
        "    if index==0:\n",
        "      return self.prepend(value)\n",
        "    if index== self.length:\n",
        "      return self.append(value)\n",
        "    else:\n",
        "\n",
        "      pre = self.get(index-1)\n",
        "      post = pre.next\n",
        "      pre.next = new_node\n",
        "      new_node.prev= pre\n",
        "      new_node.next = post\n",
        "      post.prev = new_node\n",
        "      self.length+=1\n",
        "      return True\n",
        "  def remove(self,index,value):\n",
        "    temp= self.get(index)\n",
        "    if temp:\n",
        "      pre = temp.prev\n",
        "      post = temp.next\n",
        "      pre.next = post\n",
        "      post.prev =pre\n",
        "      temp.next = None\n",
        "      temp.prev = None\n",
        "\n",
        "    \n",
        "\n",
        "\n",
        "dll = DoublyLinkedList(7)\n",
        "dll.append(1)\n",
        "dll.append(3)\n",
        "dll.Print_DLS()"
      ],
      "metadata": {
        "colab": {
          "base_uri": "https://localhost:8080/"
        },
        "id": "e5zV2l5J6Sfj",
        "outputId": "a3b97a54-dc17-4681-d11b-389c7d924a25"
      },
      "execution_count": null,
      "outputs": [
        {
          "output_type": "stream",
          "name": "stdout",
          "text": [
            "7\n",
            "1\n",
            "3\n"
          ]
        }
      ]
    },
    {
      "cell_type": "code",
      "source": [
        "## stack\n",
        "\n",
        "class Node:\n",
        "  def __init__(self, value):\n",
        "    self.value = value\n",
        "    self.next = None\n",
        "\n",
        "class Stack:\n",
        "  def __init__(self, value):\n",
        "    new_node = Node(value)\n",
        "    self.top = new_node\n",
        "    self.height =1 \n",
        "\n",
        "  def preprint(self):\n",
        "    temp = self.top\n",
        "    while temp is not None:\n",
        "      print(temp.value)\n",
        "      temp = temp.next\n",
        "  def push(self,value):\n",
        "    new_node = Node(value)\n",
        "    if self.top is None:\n",
        "      self.top= new_node\n",
        "    else:\n",
        "      new_node.next= self.top\n",
        "      self.top = new_node\n",
        "    self.height+=1\n",
        "  def pop(self):\n",
        "    if self.top is None:\n",
        "      return False\n",
        "    temp = self.top\n",
        "    self.top = self.top.next\n",
        "    temp.next = None\n",
        "    self.height-=1\n",
        "    return temp\n",
        "\n",
        "S = Stack(2)\n",
        "S.push(1)\n",
        "S.push(3)\n",
        "S.preprint()  "
      ],
      "metadata": {
        "colab": {
          "base_uri": "https://localhost:8080/"
        },
        "id": "sn04bKHA4RFP",
        "outputId": "a1afdf8a-0f7d-4290-9d7f-db267967bee6"
      },
      "execution_count": null,
      "outputs": [
        {
          "output_type": "stream",
          "name": "stdout",
          "text": [
            "3\n",
            "1\n",
            "2\n"
          ]
        }
      ]
    },
    {
      "cell_type": "code",
      "source": [
        "## DST\n",
        "class Node:\n",
        "  def __init__(self, value):\n",
        "    self.value = value\n",
        "    self.left  = None\n",
        "    self.right = None\n",
        "\n",
        "class BinarySearchTree:\n",
        "  def __init__(self,value):\n",
        "    self.root = None\n",
        "\n",
        "  "
      ],
      "metadata": {
        "id": "NO7SXz6Y4S-b"
      },
      "execution_count": 28,
      "outputs": []
    }
  ]
}